import cv2
import numpy as np
from google.colab.patches import cv2_imshow  # Import cv2_imshow for Google Colab
from IPython.display import display
from sklearn.cluster import KMeans
def load_image(image_path):
    return cv2.imread(image_path)
def preprocess_image(image):
    # Resize the image for faster processing
    height, width = 150, 150
    resized_image = cv2.resize(image, (width, height), interpolation=cv2.INTER_AREA)

    flattened_image = resized_image.reshape((-1, 3))
    return flattened_image
def perform_kmeans(image, k=5):
    kmeans = KMeans(n_clusters=k)
    kmeans.fit(image)
    return kmeans
def get_dominant_colors(kmeans):
    dominant_colors = kmeans.cluster_centers_
    return dominant_colors
def display_image(image, title="Image"):
    cv2_imshow(image)
def display_colors(colors):
    color_display = np.zeros((100, 300, 3), dtype=np.uint8)
    color_display[:, :100] = colors[0]
    color_display[:, 100:200] = colors[1]
    color_display[:, 200:] = colors[2]
    cv2_imshow(color_display)
if __name__ == "__main__":
    image_path = '/content/kobe.jpg'  # Replace with the path to your image
    image = load_image(image_path)
    
    flattened_image = preprocess_image(image)
    kmeans = perform_kmeans(flattened_image, k=3)  # Change 'k' to the desired number of dominant colors
    dominant_colors = get_dominant_colors(kmeans)

    display_image(image, "Original Image")
    display_colors(dominant_colors)
